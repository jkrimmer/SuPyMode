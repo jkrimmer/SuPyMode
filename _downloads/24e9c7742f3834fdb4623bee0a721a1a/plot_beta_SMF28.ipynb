{
  "cells": [
    {
      "cell_type": "markdown",
      "metadata": {},
      "source": [
        "\n# Propagation constant: DCFC\n"
      ]
    },
    {
      "cell_type": "markdown",
      "metadata": {},
      "source": [
        "## Imports\n\n"
      ]
    },
    {
      "cell_type": "code",
      "execution_count": null,
      "metadata": {
        "collapsed": false
      },
      "outputs": [],
      "source": [
        "import numpy\nfrom SuPyMode.workflow import Workflow, fiber_catalogue, Boundaries\nfrom PyFiberModes import LP01\nfrom PyFiberModes.fiber import load_fiber\nfrom MPSPlots.render2D import SceneList\n\nwavelength = 1550e-9\nfiber_name = 'SMF28'"
      ]
    },
    {
      "cell_type": "markdown",
      "metadata": {},
      "source": [
        "## Generating the fiber structure\nHere we define the cladding and fiber structure to model the problem\n\n"
      ]
    },
    {
      "cell_type": "code",
      "execution_count": null,
      "metadata": {
        "collapsed": false
      },
      "outputs": [],
      "source": [
        "fiber_list = [\n    fiber_catalogue.load_fiber(fiber_name, wavelength=wavelength)\n]"
      ]
    },
    {
      "cell_type": "markdown",
      "metadata": {},
      "source": [
        "Defining the boundaries of the system\n\n"
      ]
    },
    {
      "cell_type": "code",
      "execution_count": null,
      "metadata": {
        "collapsed": false
      },
      "outputs": [],
      "source": [
        "boundaries = [\n    Boundaries(right='symmetric', bottom='symmetric'),\n    Boundaries(right='symmetric', bottom='anti-symmetric')\n]"
      ]
    },
    {
      "cell_type": "markdown",
      "metadata": {},
      "source": [
        "## Generating the computing workflow\nWorkflow class to define all the computation parameters before initializing the solver\n\n"
      ]
    },
    {
      "cell_type": "code",
      "execution_count": null,
      "metadata": {
        "collapsed": false
      },
      "outputs": [],
      "source": [
        "workflow = Workflow(\n    fiber_list=fiber_list,          # List of fiber to be added in the mesh, the order matters.\n    fusion_degree='auto',           # Degree of fusion of the structure if applicable.\n    wavelength=wavelength,          # Wavelength used for the mode computation.\n    resolution=50,                 # Number of point in the x and y axis [is divided by half if symmetric or anti-symmetric boundaries].\n    x_bounds=\"left\",                # Mesh x-boundary structure.\n    y_bounds=\"top\",                 # Mesh y-boundary structure.\n    boundaries=boundaries,          # Set of symmetries to be evaluated, each symmetry add a round of simulation\n    n_sorted_mode=6,                # Total computed and sorted mode.\n    n_added_mode=4,                 # Additional computed mode that are not considered later except for field comparison [the higher the better but the slower].\n    plot_geometry=True,             # Plot the geometry mesh before computation.\n    debug_mode=0,                   # Print the iteration step for the solver plus some other important steps.\n    auto_label=True,                # Auto labeling the mode. Label are not always correct and should be verified afterwards.\n    itr_final=0.2,                  # Final value of inverse taper ratio to simulate\n    index_scrambling=0,             # Scrambling of refractive index value in order to lift mode degeneracy [useful for some analysis]\n    n_step=50\n)\n\nsuperset = workflow.get_superset()\nitr_list = superset.itr_list"
      ]
    },
    {
      "cell_type": "markdown",
      "metadata": {},
      "source": [
        "Computing the analytical values using FiberModes solver.\n\n"
      ]
    },
    {
      "cell_type": "code",
      "execution_count": null,
      "metadata": {
        "collapsed": false
      },
      "outputs": [],
      "source": [
        "dcf_fiber = load_fiber(\n    fiber_name=fiber_name,\n    wavelength=wavelength,\n    add_air_layer=True\n)"
      ]
    },
    {
      "cell_type": "markdown",
      "metadata": {},
      "source": [
        "Preparing the figure\n\n"
      ]
    },
    {
      "cell_type": "code",
      "execution_count": null,
      "metadata": {
        "collapsed": false
      },
      "outputs": [],
      "source": [
        "figure = SceneList(unit_size=(12, 4))\n\nax = figure.append_ax(\n    x_label='Inverse taper ratio',\n    y_label='Effective index',\n    show_legend=True,\n    font_size=18,\n    tick_size=15,\n    legend_font_size=18\n)\n\npyfibermodes_mode = LP01\nsupymode_mode = superset.LP01\n\nanalytical = numpy.empty(itr_list.shape)\nfor idx, itr in enumerate(itr_list):\n    _fiber = dcf_fiber.scale(factor=itr)\n    analytical[idx] = _fiber.get_effective_index(mode=pyfibermodes_mode)\n\nax.add_line(\n    x=itr_list,\n    y=analytical,\n    label=pyfibermodes_mode,\n    line_style='-',\n    line_width=2,\n    color='red',\n    layer_position=1\n)\n\nax.add_scatter(\n    x=itr_list,\n    y=supymode_mode.index.get_values(),\n    label=supymode_mode,\n    color='black',\n    line_width=2,\n    edge_color='blue',\n    marker_size=80,\n    line_style='-',\n    layer_position=2\n)\n\n_ = figure.show()\n\n\n# -"
      ]
    }
  ],
  "metadata": {
    "kernelspec": {
      "display_name": "Python 3",
      "language": "python",
      "name": "python3"
    },
    "language_info": {
      "codemirror_mode": {
        "name": "ipython",
        "version": 3
      },
      "file_extension": ".py",
      "mimetype": "text/x-python",
      "name": "python",
      "nbconvert_exporter": "python",
      "pygments_lexer": "ipython3",
      "version": "3.11.7"
    }
  },
  "nbformat": 4,
  "nbformat_minor": 0
}