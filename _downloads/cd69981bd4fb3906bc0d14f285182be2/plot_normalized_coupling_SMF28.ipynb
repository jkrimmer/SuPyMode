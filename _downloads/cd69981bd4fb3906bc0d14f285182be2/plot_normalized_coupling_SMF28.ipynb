{
  "cells": [
    {
      "cell_type": "markdown",
      "metadata": {},
      "source": [
        "\n# Normalized coupling: SMF28\n"
      ]
    },
    {
      "cell_type": "markdown",
      "metadata": {},
      "source": [
        "## Imports\n\n"
      ]
    },
    {
      "cell_type": "code",
      "execution_count": null,
      "metadata": {
        "collapsed": false
      },
      "outputs": [],
      "source": [
        "import numpy\nfrom SuPyMode.workflow import Workflow, fiber_catalogue, Boundaries\nfrom PyFiberModes.__future__ import get_normalized_LP_coupling\nfrom PyFiberModes import LP01, LP02\nfrom PyFiberModes.fiber import load_fiber\nfrom MPSPlots.render2D import SceneList\n\nwavelength = 1550e-9\nfiber_name = 'SMF28'"
      ]
    },
    {
      "cell_type": "markdown",
      "metadata": {},
      "source": [
        "## Generating the fiber structure\nHere we define the cladding and fiber structure to model the problem\n\n"
      ]
    },
    {
      "cell_type": "code",
      "execution_count": null,
      "metadata": {
        "collapsed": false
      },
      "outputs": [],
      "source": [
        "supymode_fiber = fiber_catalogue.load_fiber(fiber_name, wavelength=wavelength)\nsupymode_fiber = supymode_fiber.scale(10)"
      ]
    },
    {
      "cell_type": "markdown",
      "metadata": {},
      "source": [
        "Defining the boundaries of the system\n\n"
      ]
    },
    {
      "cell_type": "code",
      "execution_count": null,
      "metadata": {
        "collapsed": false
      },
      "outputs": [],
      "source": [
        "boundaries = [\n    Boundaries(right='symmetric', top='symmetric'),\n]"
      ]
    },
    {
      "cell_type": "markdown",
      "metadata": {},
      "source": [
        "## Generating the computing workflow\nWorkflow class to define all the computation parameters before initializing the solver\n\n"
      ]
    },
    {
      "cell_type": "code",
      "execution_count": null,
      "metadata": {
        "collapsed": false
      },
      "outputs": [],
      "source": [
        "workflow = Workflow(\n    fiber_list=[supymode_fiber],    # List of fiber to be added in the mesh, the order matters.\n    wavelength=wavelength,          # Wavelength used for the mode computation.\n    resolution=50,                 # Number of point in the x and y axis [is divided by half if symmetric or anti-symmetric boundaries].\n    x_bounds=[-200e-6, 0],          # Mesh x-boundary structure.\n    y_bounds=[-200e-6, 0],          # Mesh y-boundary structure.\n    boundaries=boundaries,          # Set of symmetries to be evaluated, each symmetry add a round of simulation\n    n_sorted_mode=5,                # Total computed and sorted mode.\n    n_added_mode=4,                 # Additional computed mode that are not considered later except for field comparison [the higher the better but the slower].\n    plot_geometry=True,             # Plot the geometry mesh before computation.\n    debug_mode=0,                   # Print the iteration step for the solver plus some other important steps.\n    auto_label=True,                # Auto labeling the mode. Label are not always correct and should be verified afterwards.\n    itr_final=0.5,                  # Final value of inverse taper ratio to simulate\n    index_scrambling=0,             # Scrambling of refractive index value in order to lift mode degeneracy [useful for some analysis]\n    n_step=100,\n    plot_field=True\n)\n\nsuperset = workflow.get_superset()\nitr_list = superset.itr_list"
      ]
    },
    {
      "cell_type": "markdown",
      "metadata": {},
      "source": [
        "Computing the analytical values using FiberModes solver.\n\n"
      ]
    },
    {
      "cell_type": "code",
      "execution_count": null,
      "metadata": {
        "collapsed": false
      },
      "outputs": [],
      "source": [
        "pyfibermodes_fiber = load_fiber(\n    fiber_name=fiber_name,\n    wavelength=wavelength,\n    add_air_layer=False\n)\n\npyfibermodes_fiber = pyfibermodes_fiber.scale(10)\n\nanalytical = numpy.empty(itr_list.shape)\nfor idx, itr in enumerate(itr_list):\n    _fiber = pyfibermodes_fiber.scale(factor=itr)\n    analytical[idx] = get_normalized_LP_coupling(\n        fiber=_fiber,\n        mode_0=LP01,\n        mode_1=LP02\n    )"
      ]
    },
    {
      "cell_type": "markdown",
      "metadata": {},
      "source": [
        "Preparing the figure\n\n"
      ]
    },
    {
      "cell_type": "code",
      "execution_count": null,
      "metadata": {
        "collapsed": false
      },
      "outputs": [],
      "source": [
        "figure = SceneList(unit_size=(12, 4))\n\nax = figure.append_ax(\n    x_label='Inverse taper ratio',\n    y_label='Effective index',\n    show_legend=True,\n    font_size=18,\n    tick_size=15,\n    legend_font_size=18\n)\n\nax.add_line(\n    x=itr_list,\n    y=analytical,\n    label='Analytical',\n    line_style='-',\n    line_width=2,\n    color='red',\n    layer_position=1\n)\n\nsimulation = -abs(superset.LP01.normalized_coupling.get_values(superset.LP02))\nax.add_scatter(\n    x=itr_list,\n    y=simulation,\n    label=\"SuPyMode\",\n    color='black',\n    line_width=2,\n    edge_color='blue',\n    marker_size=80,\n    line_style='-',\n    layer_position=2\n)\n\n_ = figure.show()"
      ]
    }
  ],
  "metadata": {
    "kernelspec": {
      "display_name": "Python 3",
      "language": "python",
      "name": "python3"
    },
    "language_info": {
      "codemirror_mode": {
        "name": "ipython",
        "version": 3
      },
      "file_extension": ".py",
      "mimetype": "text/x-python",
      "name": "python",
      "nbconvert_exporter": "python",
      "pygments_lexer": "ipython3",
      "version": "3.11.7"
    }
  },
  "nbformat": 4,
  "nbformat_minor": 0
}